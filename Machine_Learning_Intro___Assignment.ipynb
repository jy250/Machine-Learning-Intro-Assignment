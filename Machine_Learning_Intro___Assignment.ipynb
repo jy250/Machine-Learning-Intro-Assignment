{
  "nbformat": 4,
  "nbformat_minor": 0,
  "metadata": {
    "colab": {
      "provenance": []
    },
    "kernelspec": {
      "name": "python3",
      "display_name": "Python 3"
    },
    "language_info": {
      "name": "python"
    }
  },
  "cells": [
    {
      "cell_type": "code",
      "execution_count": 1,
      "metadata": {
        "colab": {
          "base_uri": "https://localhost:8080/",
          "height": 90
        },
        "id": "bwysxVyDecpl",
        "outputId": "50975346-e7ee-4157-c5f1-403210ae769f"
      },
      "outputs": [
        {
          "output_type": "execute_result",
          "data": {
            "text/plain": [
              "'Artificial Intelligence (AI): Broad field of creating machines that can mimic human intelligence (reasoning, problem-solving, decision-making).\\n\\nMachine Learning (ML): A subset of AI that enables systems to learn from data and improve performance without explicit programming.\\n\\nDeep Learning (DL): A subset of ML that uses neural networks with many layers to automatically extract features from large, complex data (e.g., images, speech).\\n\\nData Science (DS): A broader discipline focused on extracting insights from data using statistics, ML, programming, and domain knowledge.\\n'"
            ],
            "application/vnd.google.colaboratory.intrinsic+json": {
              "type": "string"
            }
          },
          "metadata": {},
          "execution_count": 1
        }
      ],
      "source": [
        "# 1. : Explain the differences between AI, ML, Deep Learning (DL), and DataScience (DS)\n",
        "\"\"\"Artificial Intelligence (AI): Broad field of creating machines that can mimic human intelligence (reasoning, problem-solving, decision-making).\n",
        "\n",
        "Machine Learning (ML): A subset of AI that enables systems to learn from data and improve performance without explicit programming.\n",
        "\n",
        "Deep Learning (DL): A subset of ML that uses neural networks with many layers to automatically extract features from large, complex data (e.g., images, speech).\n",
        "\n",
        "Data Science (DS): A broader discipline focused on extracting insights from data using statistics, ML, programming, and domain knowledge.\n",
        "\"\"\"\n"
      ]
    },
    {
      "cell_type": "code",
      "source": [
        "#2. What are the types of machine learning? Describe each with one real-world example.\n",
        "\"\"\"Types of Machine Learning\n",
        "\n",
        "Supervised Learning\n",
        "\n",
        "Definition: The model is trained on labeled data (input-output pairs).\n",
        "\n",
        "Example: Email spam detection – the system learns from emails labeled as spam or not spam to classify new ones.\n",
        "\n",
        "Unsupervised Learning\n",
        "\n",
        "Definition: The model works on unlabeled data and tries to find hidden patterns or groupings.\n",
        "\n",
        "Example: Customer segmentation in marketing – grouping customers by buying behavior without predefined labels.\n",
        "\n",
        "Reinforcement Learning (RL)\n",
        "\n",
        "Definition: The model learns by interacting with an environment, receiving rewards or penalties for actions.\n",
        "\n",
        "Example: Self-driving cars – learning to drive by maximizing rewards like safe navigation and minimizing penalties like accidents.\n",
        "\"\"\"\n"
      ],
      "metadata": {
        "colab": {
          "base_uri": "https://localhost:8080/",
          "height": 108
        },
        "id": "yZfiuGO_fmgj",
        "outputId": "a80d69da-60da-4a5d-b306-e0e104df20fa"
      },
      "execution_count": 2,
      "outputs": [
        {
          "output_type": "execute_result",
          "data": {
            "text/plain": [
              "'Types of Machine Learning\\n\\nSupervised Learning\\n\\nDefinition: The model is trained on labeled data (input-output pairs).\\n\\nExample: Email spam detection – the system learns from emails labeled as spam or not spam to classify new ones.\\n\\nUnsupervised Learning\\n\\nDefinition: The model works on unlabeled data and tries to find hidden patterns or groupings.\\n\\nExample: Customer segmentation in marketing – grouping customers by buying behavior without predefined labels.\\n\\nReinforcement Learning (RL)\\n\\nDefinition: The model learns by interacting with an environment, receiving rewards or penalties for actions.\\n\\nExample: Self-driving cars – learning to drive by maximizing rewards like safe navigation and minimizing penalties like accidents.\\n'"
            ],
            "application/vnd.google.colaboratory.intrinsic+json": {
              "type": "string"
            }
          },
          "metadata": {},
          "execution_count": 2
        }
      ]
    },
    {
      "cell_type": "code",
      "source": [
        "#3. : Define overfitting, underfitting, and the bias-variance tradeoff in machine learning.\n",
        "\"\"\"Overfitting\n",
        "\n",
        "When a model learns the training data too well, including noise and details, so it performs well on training data but poorly on new/unseen data.\n",
        "\n",
        "Example: A decision tree that memorizes data instead of generalizing.\n",
        "\n",
        "Underfitting\n",
        "\n",
        "When a model is too simple and fails to capture important patterns in the data, leading to poor performance on both training and test data.\n",
        "\n",
        "Example: Using a straight line to fit data that is clearly curved.\n",
        "\n",
        "Bias-Variance Tradeoff\n",
        "\n",
        "Bias: Error from overly simplistic models (causes underfitting).\n",
        "\n",
        "Variance: Error from overly complex models that react too much to noise (causes overfitting).\n",
        "\n",
        "Tradeoff: Finding the right balance between bias and variance to achieve good generalization on unseen data.\n",
        "\"\"\"\n"
      ],
      "metadata": {
        "colab": {
          "base_uri": "https://localhost:8080/",
          "height": 108
        },
        "id": "FAl6fXP4gEbP",
        "outputId": "699082b0-424b-4b55-d6ae-95d4a8d26caf"
      },
      "execution_count": 3,
      "outputs": [
        {
          "output_type": "execute_result",
          "data": {
            "text/plain": [
              "'Overfitting\\n\\nWhen a model learns the training data too well, including noise and details, so it performs well on training data but poorly on new/unseen data.\\n\\nExample: A decision tree that memorizes data instead of generalizing.\\n\\nUnderfitting\\n\\nWhen a model is too simple and fails to capture important patterns in the data, leading to poor performance on both training and test data.\\n\\nExample: Using a straight line to fit data that is clearly curved.\\n\\nBias-Variance Tradeoff\\n\\nBias: Error from overly simplistic models (causes underfitting).\\n\\nVariance: Error from overly complex models that react too much to noise (causes overfitting).\\n\\nTradeoff: Finding the right balance between bias and variance to achieve good generalization on unseen data.\\n'"
            ],
            "application/vnd.google.colaboratory.intrinsic+json": {
              "type": "string"
            }
          },
          "metadata": {},
          "execution_count": 3
        }
      ]
    },
    {
      "cell_type": "code",
      "source": [
        "#4: What are outliers in a dataset, and list three common techniques for handling them.\n",
        "\"\"\"Outliers\n",
        "\n",
        "Outliers are data points that differ significantly from most of the dataset, often due to variability, errors, or rare events.\n",
        "\n",
        "They can distort statistical analysis and model performance.\n",
        "\n",
        "Common Techniques to Handle Outliers\n",
        "\n",
        "Removal (Deletion): Simply remove extreme values if they are errors or irrelevant (e.g., a person’s age recorded as 300).\n",
        "\n",
        "Transformation: Apply methods like log, square root, or Box-Cox transformations to reduce the impact of extreme values.\n",
        "\n",
        "Capping/Imputation: Replace outliers with boundary values (winsorization) or with statistical measures like mean/median.\n",
        "\"\"\"\n"
      ],
      "metadata": {
        "colab": {
          "base_uri": "https://localhost:8080/",
          "height": 90
        },
        "id": "iw4p2LhogrSF",
        "outputId": "3f360d01-eb0b-4b23-db7f-8132edd5baa9"
      },
      "execution_count": 4,
      "outputs": [
        {
          "output_type": "execute_result",
          "data": {
            "text/plain": [
              "'Outliers\\n\\nOutliers are data points that differ significantly from most of the dataset, often due to variability, errors, or rare events.\\n\\nThey can distort statistical analysis and model performance.\\n\\nCommon Techniques to Handle Outliers\\n\\nRemoval (Deletion): Simply remove extreme values if they are errors or irrelevant (e.g., a person’s age recorded as 300).\\n\\nTransformation: Apply methods like log, square root, or Box-Cox transformations to reduce the impact of extreme values.\\n\\nCapping/Imputation: Replace outliers with boundary values (winsorization) or with statistical measures like mean/median.\\n'"
            ],
            "application/vnd.google.colaboratory.intrinsic+json": {
              "type": "string"
            }
          },
          "metadata": {},
          "execution_count": 4
        }
      ]
    },
    {
      "cell_type": "code",
      "source": [
        "#5: Explain the process of handling missing values and mention one imputation technique for numerical and one for categorical data\n",
        "\"\"\"Handling Missing Values\n",
        "\n",
        "Identify missing data (NaN, blanks, NULLs).\n",
        "\n",
        "Analyze the pattern (random or systematic).\n",
        "\n",
        "Decide on strategy:\n",
        "\n",
        "Remove rows/columns (if too many missing values).\n",
        "\n",
        "Impute (fill in values) using statistical or ML methods.\n",
        "\n",
        "Imputation Techniques\n",
        "\n",
        "Numerical Data: Replace with mean/median (e.g., filling missing ages with the median age).\n",
        "\n",
        "Categorical Data: Replace with mode (most frequent category, e.g., filling missing gender with the most common value).\n",
        "\"\"\"\n"
      ],
      "metadata": {
        "colab": {
          "base_uri": "https://localhost:8080/",
          "height": 72
        },
        "id": "4RxUeHWihRzw",
        "outputId": "183aa413-2ef6-43a2-f419-dd288d8f16c0"
      },
      "execution_count": 5,
      "outputs": [
        {
          "output_type": "execute_result",
          "data": {
            "text/plain": [
              "'Handling Missing Values\\n\\nIdentify missing data (NaN, blanks, NULLs).\\n\\nAnalyze the pattern (random or systematic).\\n\\nDecide on strategy:\\n\\nRemove rows/columns (if too many missing values).\\n\\nImpute (fill in values) using statistical or ML methods.\\n\\nImputation Techniques\\n\\nNumerical Data: Replace with mean/median (e.g., filling missing ages with the median age).\\n\\nCategorical Data: Replace with mode (most frequent category, e.g., filling missing gender with the most common value).\\n'"
            ],
            "application/vnd.google.colaboratory.intrinsic+json": {
              "type": "string"
            }
          },
          "metadata": {},
          "execution_count": 5
        }
      ]
    },
    {
      "cell_type": "code",
      "source": [
        "#6.Write a Python program that:\n",
        " #● Creates a synthetic imbalanced dataset with make_classification() from sklearn.datasets.\n",
        "\n",
        " #● Prints the class distribution.\n",
        "\n",
        "from sklearn.datasets import make_classification\n",
        "import numpy as np\n",
        "from collections import Counter\n",
        "\n",
        "# Create synthetic imbalanced dataset\n",
        "X, y = make_classification(n_samples=1000, n_features=10, n_classes=2,\n",
        "                           n_informative=2, n_redundant=0,\n",
        "                           weights=[0.9, 0.1],  # imbalance ratio\n",
        "                           random_state=42)\n",
        "\n",
        "# Print class distribution\n",
        "class_distribution = Counter(y)\n",
        "print(\"Class distribution:\", class_distribution)"
      ],
      "metadata": {
        "colab": {
          "base_uri": "https://localhost:8080/"
        },
        "id": "Ve9sHfs3hjNK",
        "outputId": "4067fc32-3438-4053-c5e8-a7ef54b576c3"
      },
      "execution_count": 7,
      "outputs": [
        {
          "output_type": "stream",
          "name": "stdout",
          "text": [
            "Class distribution: Counter({np.int64(0): 897, np.int64(1): 103})\n"
          ]
        }
      ]
    },
    {
      "cell_type": "code",
      "source": [
        "# 7. : Implement one-hot encoding using pandas for the following list of colors:\n",
        "#['Red', 'Green', 'Blue', 'Green', 'Red']. Print the resulting dataframe.\n",
        "import pandas as pd\n",
        "\n",
        "# Data\n",
        "colors = ['Red', 'Green', 'Blue', 'Green', 'Red']\n",
        "\n",
        "# Create DataFrame\n",
        "df = pd.DataFrame({'Color': colors})\n",
        "\n",
        "# One-hot encoding\n",
        "one_hot = pd.get_dummies(df['Color'])\n",
        "\n",
        "# Print result\n",
        "print(one_hot)\n",
        "\n"
      ],
      "metadata": {
        "colab": {
          "base_uri": "https://localhost:8080/"
        },
        "id": "BNXavComh7oZ",
        "outputId": "1527d45e-a114-4361-be0f-cbcd797f74bf"
      },
      "execution_count": 8,
      "outputs": [
        {
          "output_type": "stream",
          "name": "stdout",
          "text": [
            "    Blue  Green    Red\n",
            "0  False  False   True\n",
            "1  False   True  False\n",
            "2   True  False  False\n",
            "3  False   True  False\n",
            "4  False  False   True\n"
          ]
        }
      ]
    },
    {
      "cell_type": "code",
      "source": [
        "#8.Write a Python script to:\n",
        " #● Generate 1000 samples from a normal distribution.\n",
        "# ● Introduce 50 random missing values.\n",
        "#● Fill missing values with the column mean.\n",
        "#● Plot a histogram before and after imputation\n",
        "import numpy as np\n",
        "import pandas as pd\n",
        "import matplotlib.pyplot as plt\n",
        "\n",
        "# Step 1: Generate 1000 samples from a normal distribution\n",
        "np.random.seed(42)\n",
        "data = np.random.normal(loc=50, scale=10, size=1000)\n",
        "\n",
        "# Convert to DataFrame\n",
        "df = pd.DataFrame(data, columns=['Value'])\n",
        "\n",
        "# Step 2: Introduce 50 random missing values\n",
        "missing_indices = np.random.choice(df.index, size=50, replace=False)\n",
        "df.loc[missing_indices, 'Value'] = np.nan\n",
        "\n",
        "# Step 3: Fill missing values with column mean\n",
        "df_filled = df.copy()\n",
        "df_filled['Value'].fillna(df['Value'].mean(), inplace=True)\n",
        "\n",
        "# Step 4: Plot histogram before and after imputation\n",
        "plt.figure(figsize=(10, 5))\n",
        "\n",
        "# Before imputation\n",
        "plt.subplot(1, 2, 1)\n",
        "plt.hist(df['Value'].dropna(), bins=30, edgecolor='black')\n",
        "plt.title(\"Before Imputation\")\n",
        "plt.xlabel(\"Value\")\n",
        "plt.ylabel(\"Frequency\")\n",
        "\n",
        "# After imputation\n",
        "plt.subplot(1, 2, 2)\n",
        "plt.hist(df_filled['Value'], bins=30, edgecolor='black')\n",
        "plt.title(\"After Imputation (Mean)\")\n",
        "plt.xlabel(\"Value\")\n",
        "plt.ylabel(\"Frequency\")\n",
        "\n",
        "plt.tight_layout()\n",
        "plt.show()\n"
      ],
      "metadata": {
        "colab": {
          "base_uri": "https://localhost:8080/",
          "height": 654
        },
        "id": "klKe6Wb-iY6U",
        "outputId": "eeb3452d-e467-4778-afe4-1a0a580706e5"
      },
      "execution_count": 9,
      "outputs": [
        {
          "output_type": "stream",
          "name": "stderr",
          "text": [
            "/tmp/ipython-input-3903304609.py:23: FutureWarning: A value is trying to be set on a copy of a DataFrame or Series through chained assignment using an inplace method.\n",
            "The behavior will change in pandas 3.0. This inplace method will never work because the intermediate object on which we are setting values always behaves as a copy.\n",
            "\n",
            "For example, when doing 'df[col].method(value, inplace=True)', try using 'df.method({col: value}, inplace=True)' or df[col] = df[col].method(value) instead, to perform the operation inplace on the original object.\n",
            "\n",
            "\n",
            "  df_filled['Value'].fillna(df['Value'].mean(), inplace=True)\n"
          ]
        },
        {
          "output_type": "display_data",
          "data": {
            "text/plain": [
              "<Figure size 1000x500 with 2 Axes>"
            ],
            "image/png": "[encoded data removed]"
          },
          "metadata": {}
        }
      ]
    },
    {
      "cell_type": "code",
      "source": [
        "# 9. Implement Min-Max scaling on the following list of numbers [2, 5, 10, 15,20] using sklearn.preprocessing.MinMaxScaler. Print the scaled array.\n",
        "from sklearn.preprocessing import MinMaxScaler\n",
        "import numpy as np\n",
        "\n",
        "# Data\n",
        "data = np.array([[2], [5], [10], [15], [20]])\n",
        "\n",
        "# Initialize scaler\n",
        "scaler = MinMaxScaler()\n",
        "\n",
        "# Fit and transform\n",
        "scaled_data = scaler.fit_transform(data)\n",
        "\n",
        "# Print result\n",
        "print(\"Scaled array:\\n\", scaled_data)\n",
        "\n"
      ],
      "metadata": {
        "colab": {
          "base_uri": "https://localhost:8080/"
        },
        "id": "drw5s7ZXivKc",
        "outputId": "bc41be6f-8fcf-4cf6-93e4-4e64d8629708"
      },
      "execution_count": 10,
      "outputs": [
        {
          "output_type": "stream",
          "name": "stdout",
          "text": [
            "Scaled array:\n",
            " [[0.        ]\n",
            " [0.16666667]\n",
            " [0.44444444]\n",
            " [0.72222222]\n",
            " [1.        ]]\n"
          ]
        }
      ]
    },
    {
      "cell_type": "code",
      "source": [
        "#10.You are working as a data scientist for a retail company. You receive a customer transaction dataset that contains:\n",
        "#● Missing ages,\n",
        "#● Outliers in transaction amount,\n",
        "#A highly imbalanced target (fraud vs. non-fraud),\n",
        "#● Categorical variables like payment method.\n",
        "\"\"\"1. Missing Ages\n",
        "\n",
        "Why it matters: Missing demographic info can reduce model accuracy.\n",
        "\n",
        "Handling:\n",
        "\n",
        "Simple imputation: Replace with mean/median (numerical).\n",
        "\n",
        "Advanced imputation: Use KNN imputer or regression-based imputation if age relates to other features.\n",
        "\n",
        "2. Outliers in Transaction Amount\n",
        "\n",
        "Why it matters: Fraud transactions are often extreme values; but not all outliers are errors.\n",
        "\n",
        "Handling:\n",
        "\n",
        "Detection: Use IQR, Z-score, or boxplot methods.\n",
        "\n",
        "Action:\n",
        "\n",
        "If data error → remove/cap.\n",
        "\n",
        "If genuine fraud indicator → keep (very important in fraud detection).\n",
        "\n",
        "3. Imbalanced Target (Fraud vs. Non-fraud)\n",
        "\n",
        "Why it matters: Fraud cases are rare → models may ignore them.\n",
        "\n",
        "Handling:\n",
        "\n",
        "Resampling: Oversample minority (SMOTE) or undersample majority.\n",
        "\n",
        "Algorithmic approaches: Use models robust to imbalance (e.g., XGBoost, Random Forest with class_weight).\n",
        "\n",
        "Evaluation metrics: Use precision, recall, F1-score, ROC-AUC (not just accuracy).\n",
        "\n",
        "4. Categorical Variables (e.g., Payment Method)\n",
        "\n",
        "Why it matters: ML models require numerical input.\n",
        "\n",
        "Handling:\n",
        "\n",
        "One-Hot Encoding: For nominal variables (e.g., “Credit Card”, “UPI”, “Cash”).\n",
        "\n",
        "Ordinal Encoding: If categories have natural order (e.g., “Low”, “Medium”, “High”).\n",
        "\n",
        "✅ Final Workflow in Practice:\n",
        "\n",
        "Handle missing values → impute ages.\n",
        "\n",
        "Treat outliers carefully → cap/remove errors, keep fraud-like cases.\n",
        "\n",
        "Balance dataset → resampling + proper metrics.\n",
        "\n",
        "Encode categorical variables.\n",
        "\n",
        "Train ML model → validate with precision/recall/ROC-AUC.\"\"\"\n"
      ],
      "metadata": {
        "colab": {
          "base_uri": "https://localhost:8080/",
          "height": 127
        },
        "id": "5uxUQnaujLDK",
        "outputId": "69819e7d-72e1-479e-8d14-f96ec985067c"
      },
      "execution_count": 11,
      "outputs": [
        {
          "output_type": "execute_result",
          "data": {
            "text/plain": [
              "'1. Missing Ages\\n\\nWhy it matters: Missing demographic info can reduce model accuracy.\\n\\nHandling:\\n\\nSimple imputation: Replace with mean/median (numerical).\\n\\nAdvanced imputation: Use KNN imputer or regression-based imputation if age relates to other features.\\n\\n2. Outliers in Transaction Amount\\n\\nWhy it matters: Fraud transactions are often extreme values; but not all outliers are errors.\\n\\nHandling:\\n\\nDetection: Use IQR, Z-score, or boxplot methods.\\n\\nAction:\\n\\nIf data error → remove/cap.\\n\\nIf genuine fraud indicator → keep (very important in fraud detection).\\n\\n3. Imbalanced Target (Fraud vs. Non-fraud)\\n\\nWhy it matters: Fraud cases are rare → models may ignore them.\\n\\nHandling:\\n\\nResampling: Oversample minority (SMOTE) or undersample majority.\\n\\nAlgorithmic approaches: Use models robust to imbalance (e.g., XGBoost, Random Forest with class_weight).\\n\\nEvaluation metrics: Use precision, recall, F1-score, ROC-AUC (not just accuracy).\\n\\n4. Categorical Variables (e.g., Payment Method)\\n\\nWhy it matters: ML models require numerical input.\\n\\nHandling:\\n\\nOne-Hot Encoding: For nominal variables (e.g., “Credit Card”, “UPI”, “Cash”).\\n\\nOrdinal Encoding: If categories have natural order (e.g., “Low”, “Medium”, “High”).\\n\\n✅ Final Workflow in Practice:\\n\\nHandle missing values → impute ages.\\n\\nTreat outliers carefully → cap/remove errors, keep fraud-like cases.\\n\\nBalance dataset → resampling + proper metrics.\\n\\nEncode categorical variables.\\n\\nTrain ML model → validate with precision/recall/ROC-AUC.'"
            ],
            "application/vnd.google.colaboratory.intrinsic+json": {
              "type": "string"
            }
          },
          "metadata": {},
          "execution_count": 11
        }
      ]
    },
    {
      "cell_type": "code",
      "source": [],
      "metadata": {
        "id": "asN3OuoUkEQ7"
      },
      "execution_count": null,
      "outputs": []
    }
  ]
}